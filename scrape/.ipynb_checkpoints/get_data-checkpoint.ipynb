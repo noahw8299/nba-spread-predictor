{
 "cells": [
  {
   "cell_type": "code",
   "execution_count": 1,
   "id": "eb2b933f-aeef-43bc-bf38-c35acdbab345",
   "metadata": {},
   "outputs": [],
   "source": [
    "import os\n",
    "from bs4 import BeautifulSoup\n",
    "from playwright.async_api import async_playwright, TimeoutError as PlaywrightTimeout\n",
    "import time"
   ]
  },
  {
   "cell_type": "code",
   "execution_count": 2,
   "id": "29dbe824-d30c-4c39-996d-a45dfad28e79",
   "metadata": {},
   "outputs": [],
   "source": [
    "SEASONS = list(range(2016,2023))"
   ]
  },
  {
   "cell_type": "code",
   "execution_count": 4,
   "id": "84caabc9-8820-45a3-a5de-fedf21ff6263",
   "metadata": {},
   "outputs": [],
   "source": [
    "DATA_DIR = \"data\"\n",
    "STANDINGS_DIR = os.path.join(DATA_DIR, \"standings\")\n",
    "SCORES_DIR = os.path.join(DATA_DIR, \"scores\")"
   ]
  },
  {
   "cell_type": "code",
   "execution_count": null,
   "id": "122cc9df-d21d-4e80-815e-fae05d1b538f",
   "metadata": {},
   "outputs": [],
   "source": [
    "async def get_hmtl(url, selector, sleep=5, retries=3):\n",
    "    html = None\n",
    "    for i in range(1, retries+1):\n",
    "        time.sleep(i * sleep)\n",
    "        \n",
    "        try:\n",
    "            async with async_playwright() as p\n",
    "            browers = await p.chromium.launch()\n",
    "            page = await browser.new_page()\n",
    "            await page.goto(url)\n",
    "            print(await page.title())\n",
    "            html = await apge.inner_html(selector)\n",
    "            \n",
    "        except PlaywrightTimeout:\n",
    "            print(f\"Timeout error on {url}\")\n",
    "            continue\n",
    "            \n",
    "        else:\n",
    "            break\n",
    "            \n",
    "    return html"
   ]
  }
 ],
 "metadata": {
  "kernelspec": {
   "display_name": "Python 3 (ipykernel)",
   "language": "python",
   "name": "python3"
  },
  "language_info": {
   "codemirror_mode": {
    "name": "ipython",
    "version": 3
   },
   "file_extension": ".py",
   "mimetype": "text/x-python",
   "name": "python",
   "nbconvert_exporter": "python",
   "pygments_lexer": "ipython3",
   "version": "3.10.6"
  }
 },
 "nbformat": 4,
 "nbformat_minor": 5
}
